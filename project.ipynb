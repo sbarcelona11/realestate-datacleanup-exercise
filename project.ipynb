{
 "cells": [
  {
   "attachments": {},
   "cell_type": "markdown",
   "id": "innocent-university",
   "metadata": {},
   "source": [
    "# Real Estate Clean up\n",
    "\n",
    "This is a real dataset and it was downloaded using web scraping techniques. The data contains registers from fotocasa which is one of the most popular websites of real estate in Spain. Please, do not do this (web scraping) unless it is for academic purposes.\n",
    "\n",
    "The dataset was downloaded a few years ago by Henry Navarro and In no case were economic returns obtained from it.\n",
    "\n",
    "It contains thousands of data from real houses published on the web www.fotocasa.com. Your goal is to extract as much information as possible with the knowledge you have so far about data science, for example what is the most expensive house in the entire dataset?\n",
    "\n",
    "Let's start with precisely that question... Good luck!"
   ]
  },
  {
   "attachments": {},
   "cell_type": "markdown",
   "id": "multiple-glass",
   "metadata": {},
   "source": [
    "#### Exercise 00. Read the dataset assets/real_estate.csv and try to visualize the table (★☆☆)"
   ]
  },
  {
   "cell_type": "code",
   "execution_count": 1,
   "id": "frank-heath",
   "metadata": {},
   "outputs": [
    {
     "name": "stderr",
     "output_type": "stream",
     "text": [
      "/tmp/ipykernel_557/4098645343.py:1: DeprecationWarning: \n",
      "Pyarrow will become a required dependency of pandas in the next major release of pandas (pandas 3.0),\n",
      "(to allow more performant data types, such as the Arrow string type, and better interoperability with other libraries)\n",
      "but was not found to be installed on your system.\n",
      "If this would cause problems for you,\n",
      "please provide us feedback at https://github.com/pandas-dev/pandas/issues/54466\n",
      "        \n",
      "  import pandas as pd\n"
     ]
    },
    {
     "data": {
      "text/html": [
       "<div>\n",
       "<style scoped>\n",
       "    .dataframe tbody tr th:only-of-type {\n",
       "        vertical-align: middle;\n",
       "    }\n",
       "\n",
       "    .dataframe tbody tr th {\n",
       "        vertical-align: top;\n",
       "    }\n",
       "\n",
       "    .dataframe thead th {\n",
       "        text-align: right;\n",
       "    }\n",
       "</style>\n",
       "<table border=\"1\" class=\"dataframe\">\n",
       "  <thead>\n",
       "    <tr style=\"text-align: right;\">\n",
       "      <th></th>\n",
       "      <th>Unnamed: 0</th>\n",
       "      <th>id_realEstates</th>\n",
       "      <th>isNew</th>\n",
       "      <th>realEstate_name</th>\n",
       "      <th>phone_realEstate</th>\n",
       "      <th>url_inmueble</th>\n",
       "      <th>rooms</th>\n",
       "      <th>bathrooms</th>\n",
       "      <th>surface</th>\n",
       "      <th>price</th>\n",
       "      <th>...</th>\n",
       "      <th>level4Id</th>\n",
       "      <th>level5Id</th>\n",
       "      <th>level6Id</th>\n",
       "      <th>level7Id</th>\n",
       "      <th>level8Id</th>\n",
       "      <th>accuracy</th>\n",
       "      <th>latitude</th>\n",
       "      <th>longitude</th>\n",
       "      <th>zipCode</th>\n",
       "      <th>customZone</th>\n",
       "    </tr>\n",
       "  </thead>\n",
       "  <tbody>\n",
       "    <tr>\n",
       "      <th>0</th>\n",
       "      <td>1</td>\n",
       "      <td>153771986</td>\n",
       "      <td>False</td>\n",
       "      <td>ferrari 57 inmobiliaria</td>\n",
       "      <td>912177526.0</td>\n",
       "      <td>https://www.fotocasa.es/es/comprar/vivienda/ma...</td>\n",
       "      <td>3.0</td>\n",
       "      <td>2.0</td>\n",
       "      <td>103.0</td>\n",
       "      <td>195000</td>\n",
       "      <td>...</td>\n",
       "      <td>0</td>\n",
       "      <td>0</td>\n",
       "      <td>0</td>\n",
       "      <td>0</td>\n",
       "      <td>0</td>\n",
       "      <td>0</td>\n",
       "      <td>40,2948276786438</td>\n",
       "      <td>-3,44402412135624</td>\n",
       "      <td>NaN</td>\n",
       "      <td>NaN</td>\n",
       "    </tr>\n",
       "    <tr>\n",
       "      <th>1</th>\n",
       "      <td>2</td>\n",
       "      <td>153867863</td>\n",
       "      <td>False</td>\n",
       "      <td>tecnocasa fuenlabrada ferrocarril</td>\n",
       "      <td>916358736.0</td>\n",
       "      <td>https://www.fotocasa.es/es/comprar/vivienda/ma...</td>\n",
       "      <td>3.0</td>\n",
       "      <td>1.0</td>\n",
       "      <td>NaN</td>\n",
       "      <td>89000</td>\n",
       "      <td>...</td>\n",
       "      <td>0</td>\n",
       "      <td>0</td>\n",
       "      <td>0</td>\n",
       "      <td>0</td>\n",
       "      <td>0</td>\n",
       "      <td>1</td>\n",
       "      <td>40,28674</td>\n",
       "      <td>-3,79351</td>\n",
       "      <td>NaN</td>\n",
       "      <td>NaN</td>\n",
       "    </tr>\n",
       "    <tr>\n",
       "      <th>2</th>\n",
       "      <td>3</td>\n",
       "      <td>153430440</td>\n",
       "      <td>False</td>\n",
       "      <td>look find boadilla</td>\n",
       "      <td>916350408.0</td>\n",
       "      <td>https://www.fotocasa.es/es/comprar/vivienda/ma...</td>\n",
       "      <td>2.0</td>\n",
       "      <td>2.0</td>\n",
       "      <td>99.0</td>\n",
       "      <td>390000</td>\n",
       "      <td>...</td>\n",
       "      <td>0</td>\n",
       "      <td>0</td>\n",
       "      <td>0</td>\n",
       "      <td>0</td>\n",
       "      <td>0</td>\n",
       "      <td>0</td>\n",
       "      <td>40,4115646786438</td>\n",
       "      <td>-3,90662252135624</td>\n",
       "      <td>NaN</td>\n",
       "      <td>NaN</td>\n",
       "    </tr>\n",
       "    <tr>\n",
       "      <th>3</th>\n",
       "      <td>4</td>\n",
       "      <td>152776331</td>\n",
       "      <td>False</td>\n",
       "      <td>tecnocasa fuenlabrada ferrocarril</td>\n",
       "      <td>916358736.0</td>\n",
       "      <td>https://www.fotocasa.es/es/comprar/vivienda/ma...</td>\n",
       "      <td>3.0</td>\n",
       "      <td>1.0</td>\n",
       "      <td>86.0</td>\n",
       "      <td>89000</td>\n",
       "      <td>...</td>\n",
       "      <td>0</td>\n",
       "      <td>0</td>\n",
       "      <td>0</td>\n",
       "      <td>0</td>\n",
       "      <td>0</td>\n",
       "      <td>0</td>\n",
       "      <td>40,2853785786438</td>\n",
       "      <td>-3,79508142135624</td>\n",
       "      <td>NaN</td>\n",
       "      <td>NaN</td>\n",
       "    </tr>\n",
       "    <tr>\n",
       "      <th>4</th>\n",
       "      <td>5</td>\n",
       "      <td>153180188</td>\n",
       "      <td>False</td>\n",
       "      <td>ferrari 57 inmobiliaria</td>\n",
       "      <td>912177526.0</td>\n",
       "      <td>https://www.fotocasa.es/es/comprar/vivienda/ma...</td>\n",
       "      <td>2.0</td>\n",
       "      <td>2.0</td>\n",
       "      <td>106.0</td>\n",
       "      <td>172000</td>\n",
       "      <td>...</td>\n",
       "      <td>0</td>\n",
       "      <td>0</td>\n",
       "      <td>0</td>\n",
       "      <td>0</td>\n",
       "      <td>0</td>\n",
       "      <td>0</td>\n",
       "      <td>40,2998774864376</td>\n",
       "      <td>-3,45226301356237</td>\n",
       "      <td>NaN</td>\n",
       "      <td>NaN</td>\n",
       "    </tr>\n",
       "    <tr>\n",
       "      <th>...</th>\n",
       "      <td>...</td>\n",
       "      <td>...</td>\n",
       "      <td>...</td>\n",
       "      <td>...</td>\n",
       "      <td>...</td>\n",
       "      <td>...</td>\n",
       "      <td>...</td>\n",
       "      <td>...</td>\n",
       "      <td>...</td>\n",
       "      <td>...</td>\n",
       "      <td>...</td>\n",
       "      <td>...</td>\n",
       "      <td>...</td>\n",
       "      <td>...</td>\n",
       "      <td>...</td>\n",
       "      <td>...</td>\n",
       "      <td>...</td>\n",
       "      <td>...</td>\n",
       "      <td>...</td>\n",
       "      <td>...</td>\n",
       "      <td>...</td>\n",
       "    </tr>\n",
       "    <tr>\n",
       "      <th>15330</th>\n",
       "      <td>15331</td>\n",
       "      <td>153901377</td>\n",
       "      <td>False</td>\n",
       "      <td>infocasa consulting</td>\n",
       "      <td>911360461.0</td>\n",
       "      <td>https://www.fotocasa.es/es/comprar/vivienda/ma...</td>\n",
       "      <td>2.0</td>\n",
       "      <td>1.0</td>\n",
       "      <td>96.0</td>\n",
       "      <td>259470</td>\n",
       "      <td>...</td>\n",
       "      <td>0</td>\n",
       "      <td>0</td>\n",
       "      <td>0</td>\n",
       "      <td>0</td>\n",
       "      <td>0</td>\n",
       "      <td>0</td>\n",
       "      <td>40,45416</td>\n",
       "      <td>-3,70286</td>\n",
       "      <td>NaN</td>\n",
       "      <td>NaN</td>\n",
       "    </tr>\n",
       "    <tr>\n",
       "      <th>15331</th>\n",
       "      <td>15332</td>\n",
       "      <td>150394373</td>\n",
       "      <td>False</td>\n",
       "      <td>inmobiliaria pulpon</td>\n",
       "      <td>912788039.0</td>\n",
       "      <td>https://www.fotocasa.es/es/comprar/vivienda/ma...</td>\n",
       "      <td>3.0</td>\n",
       "      <td>1.0</td>\n",
       "      <td>150.0</td>\n",
       "      <td>165000</td>\n",
       "      <td>...</td>\n",
       "      <td>0</td>\n",
       "      <td>0</td>\n",
       "      <td>0</td>\n",
       "      <td>0</td>\n",
       "      <td>0</td>\n",
       "      <td>0</td>\n",
       "      <td>40,36652</td>\n",
       "      <td>-3,48951</td>\n",
       "      <td>NaN</td>\n",
       "      <td>NaN</td>\n",
       "    </tr>\n",
       "    <tr>\n",
       "      <th>15332</th>\n",
       "      <td>15333</td>\n",
       "      <td>153901397</td>\n",
       "      <td>False</td>\n",
       "      <td>tecnocasa torrelodones</td>\n",
       "      <td>912780348.0</td>\n",
       "      <td>https://www.fotocasa.es/es/comprar/vivienda/ma...</td>\n",
       "      <td>4.0</td>\n",
       "      <td>2.0</td>\n",
       "      <td>175.0</td>\n",
       "      <td>495000</td>\n",
       "      <td>...</td>\n",
       "      <td>0</td>\n",
       "      <td>0</td>\n",
       "      <td>0</td>\n",
       "      <td>0</td>\n",
       "      <td>0</td>\n",
       "      <td>0</td>\n",
       "      <td>40,57444</td>\n",
       "      <td>-3,92124</td>\n",
       "      <td>NaN</td>\n",
       "      <td>NaN</td>\n",
       "    </tr>\n",
       "    <tr>\n",
       "      <th>15333</th>\n",
       "      <td>15334</td>\n",
       "      <td>152607440</td>\n",
       "      <td>False</td>\n",
       "      <td>inmobiliaria pulpon</td>\n",
       "      <td>912788039.0</td>\n",
       "      <td>https://www.fotocasa.es/es/comprar/vivienda/ma...</td>\n",
       "      <td>3.0</td>\n",
       "      <td>2.0</td>\n",
       "      <td>101.0</td>\n",
       "      <td>195000</td>\n",
       "      <td>...</td>\n",
       "      <td>0</td>\n",
       "      <td>0</td>\n",
       "      <td>0</td>\n",
       "      <td>0</td>\n",
       "      <td>0</td>\n",
       "      <td>0</td>\n",
       "      <td>40,36967</td>\n",
       "      <td>-3,48105</td>\n",
       "      <td>NaN</td>\n",
       "      <td>NaN</td>\n",
       "    </tr>\n",
       "    <tr>\n",
       "      <th>15334</th>\n",
       "      <td>15335</td>\n",
       "      <td>153901356</td>\n",
       "      <td>False</td>\n",
       "      <td>infocasa consulting</td>\n",
       "      <td>911360461.0</td>\n",
       "      <td>https://www.fotocasa.es/es/comprar/vivienda/ma...</td>\n",
       "      <td>3.0</td>\n",
       "      <td>2.0</td>\n",
       "      <td>152.0</td>\n",
       "      <td>765000</td>\n",
       "      <td>...</td>\n",
       "      <td>0</td>\n",
       "      <td>0</td>\n",
       "      <td>0</td>\n",
       "      <td>0</td>\n",
       "      <td>0</td>\n",
       "      <td>0</td>\n",
       "      <td>40,45773</td>\n",
       "      <td>-3,69068</td>\n",
       "      <td>NaN</td>\n",
       "      <td>NaN</td>\n",
       "    </tr>\n",
       "  </tbody>\n",
       "</table>\n",
       "<p>15335 rows × 37 columns</p>\n",
       "</div>"
      ],
      "text/plain": [
       "       Unnamed: 0  id_realEstates  isNew                    realEstate_name  \\\n",
       "0               1       153771986  False            ferrari 57 inmobiliaria   \n",
       "1               2       153867863  False  tecnocasa fuenlabrada ferrocarril   \n",
       "2               3       153430440  False                 look find boadilla   \n",
       "3               4       152776331  False  tecnocasa fuenlabrada ferrocarril   \n",
       "4               5       153180188  False            ferrari 57 inmobiliaria   \n",
       "...           ...             ...    ...                                ...   \n",
       "15330       15331       153901377  False                infocasa consulting   \n",
       "15331       15332       150394373  False                inmobiliaria pulpon   \n",
       "15332       15333       153901397  False             tecnocasa torrelodones   \n",
       "15333       15334       152607440  False                inmobiliaria pulpon   \n",
       "15334       15335       153901356  False                infocasa consulting   \n",
       "\n",
       "       phone_realEstate                                       url_inmueble  \\\n",
       "0           912177526.0  https://www.fotocasa.es/es/comprar/vivienda/ma...   \n",
       "1           916358736.0  https://www.fotocasa.es/es/comprar/vivienda/ma...   \n",
       "2           916350408.0  https://www.fotocasa.es/es/comprar/vivienda/ma...   \n",
       "3           916358736.0  https://www.fotocasa.es/es/comprar/vivienda/ma...   \n",
       "4           912177526.0  https://www.fotocasa.es/es/comprar/vivienda/ma...   \n",
       "...                 ...                                                ...   \n",
       "15330       911360461.0  https://www.fotocasa.es/es/comprar/vivienda/ma...   \n",
       "15331       912788039.0  https://www.fotocasa.es/es/comprar/vivienda/ma...   \n",
       "15332       912780348.0  https://www.fotocasa.es/es/comprar/vivienda/ma...   \n",
       "15333       912788039.0  https://www.fotocasa.es/es/comprar/vivienda/ma...   \n",
       "15334       911360461.0  https://www.fotocasa.es/es/comprar/vivienda/ma...   \n",
       "\n",
       "       rooms  bathrooms  surface   price  ... level4Id level5Id level6Id  \\\n",
       "0        3.0        2.0    103.0  195000  ...        0        0        0   \n",
       "1        3.0        1.0      NaN   89000  ...        0        0        0   \n",
       "2        2.0        2.0     99.0  390000  ...        0        0        0   \n",
       "3        3.0        1.0     86.0   89000  ...        0        0        0   \n",
       "4        2.0        2.0    106.0  172000  ...        0        0        0   \n",
       "...      ...        ...      ...     ...  ...      ...      ...      ...   \n",
       "15330    2.0        1.0     96.0  259470  ...        0        0        0   \n",
       "15331    3.0        1.0    150.0  165000  ...        0        0        0   \n",
       "15332    4.0        2.0    175.0  495000  ...        0        0        0   \n",
       "15333    3.0        2.0    101.0  195000  ...        0        0        0   \n",
       "15334    3.0        2.0    152.0  765000  ...        0        0        0   \n",
       "\n",
       "      level7Id level8Id accuracy          latitude          longitude zipCode  \\\n",
       "0            0        0        0  40,2948276786438  -3,44402412135624     NaN   \n",
       "1            0        0        1          40,28674           -3,79351     NaN   \n",
       "2            0        0        0  40,4115646786438  -3,90662252135624     NaN   \n",
       "3            0        0        0  40,2853785786438  -3,79508142135624     NaN   \n",
       "4            0        0        0  40,2998774864376  -3,45226301356237     NaN   \n",
       "...        ...      ...      ...               ...                ...     ...   \n",
       "15330        0        0        0          40,45416           -3,70286     NaN   \n",
       "15331        0        0        0          40,36652           -3,48951     NaN   \n",
       "15332        0        0        0          40,57444           -3,92124     NaN   \n",
       "15333        0        0        0          40,36967           -3,48105     NaN   \n",
       "15334        0        0        0          40,45773           -3,69068     NaN   \n",
       "\n",
       "      customZone  \n",
       "0            NaN  \n",
       "1            NaN  \n",
       "2            NaN  \n",
       "3            NaN  \n",
       "4            NaN  \n",
       "...          ...  \n",
       "15330        NaN  \n",
       "15331        NaN  \n",
       "15332        NaN  \n",
       "15333        NaN  \n",
       "15334        NaN  \n",
       "\n",
       "[15335 rows x 37 columns]"
      ]
     },
     "execution_count": 1,
     "metadata": {},
     "output_type": "execute_result"
    }
   ],
   "source": [
    "import pandas as pd\n",
    "\n",
    "# this CSV file contains semicolons instead of comas as separator\n",
    "ds = pd.read_csv('assets/real_estate.csv', sep=';')\n",
    "ds"
   ]
  },
  {
   "attachments": {},
   "cell_type": "markdown",
   "id": "latin-guest",
   "metadata": {},
   "source": [
    "#### Exercise 01. Which is the most expensive house in the dataset? (★☆☆)\n",
    "\n",
    "Print the address and the price of the selected house. For example:\n",
    "\n",
    "`The house with address General Street Nº5 is the most expensive and its price is 5000000 USD`"
   ]
  },
  {
   "cell_type": "code",
   "execution_count": 2,
   "id": "developing-optimum",
   "metadata": {},
   "outputs": [
    {
     "name": "stdout",
     "output_type": "stream",
     "text": [
      "The house with address El Escorial is the most expensive and its price is 8500000 USD\n"
     ]
    }
   ],
   "source": [
    "# TODO\n",
    "most_expensive_id = ds['price'].argmax()\n",
    "most_expensive_house = ds.iloc[most_expensive_id]\n",
    "\n",
    "print(f\"The house with address {most_expensive_house['address']} is the most expensive and its price is {most_expensive_house['price']} USD\")"
   ]
  },
  {
   "attachments": {},
   "cell_type": "markdown",
   "id": "lesser-cosmetic",
   "metadata": {},
   "source": [
    "#### Exercise 02. Which is cheapest house in the dataset? (★☆☆)\n",
    "\n",
    "Print the address and the price of the selected house. For example:\n",
    "\n",
    "`The house with address Concrete Street Nº1 is the cheapest and its price is 12000 USD`"
   ]
  },
  {
   "cell_type": "code",
   "execution_count": 3,
   "id": "lovely-oasis",
   "metadata": {},
   "outputs": [
    {
     "name": "stdout",
     "output_type": "stream",
     "text": [
      "The house with address Parla is the most cheapest and its price is 8500000 USD\n"
     ]
    }
   ],
   "source": [
    "# TODO\n",
    "most_cheapest_id = ds['price'].argmin()\n",
    "most_cheapest_house = ds.iloc[most_cheapest_id]\n",
    "\n",
    "print(f\"The house with address {most_cheapest_house['address']} is the most cheapest and its price is {most_expensive_house['price']} USD\")"
   ]
  },
  {
   "attachments": {},
   "cell_type": "markdown",
   "id": "compliant-fellowship",
   "metadata": {},
   "source": [
    "#### Exercise 03. Which is the biggest and the smallest house in the dataset? (★☆☆)\n",
    "\n",
    "Print both the address and the surface of the selected houses. For example:\n",
    "\n",
    "`The bigger house is located on Yukka Street Nº10 and its surface is 5000 meters`\n",
    "\n",
    "`The smaller house is located on County Road 1 N and its surface is 200 meters`"
   ]
  },
  {
   "cell_type": "code",
   "execution_count": 4,
   "id": "every-tiffany",
   "metadata": {},
   "outputs": [
    {
     "name": "stdout",
     "output_type": "stream",
     "text": [
      "The bigger house is located on Sevilla la Nueva and its surface is 249000.0 meters\n",
      "The smaller house is located on Calle Amparo,  Madrid Capital and its surface is 15.0 meters\n"
     ]
    }
   ],
   "source": [
    "# TODO\n",
    "biggest_id = ds['surface'].argmax()\n",
    "smallest_id = ds['surface'].argmin()\n",
    "\n",
    "big_house = ds.iloc[biggest_id]\n",
    "small_house = ds.iloc[smallest_id]\n",
    "\n",
    "print(f\"The bigger house is located on {big_house['address']} and its surface is {big_house['surface']} meters\")\n",
    "print(f\"The smaller house is located on {small_house['address']} and its surface is {small_house['surface']} meters\")\n"
   ]
  },
  {
   "attachments": {},
   "cell_type": "markdown",
   "id": "danish-spirit",
   "metadata": {},
   "source": [
    "#### Exercise 04. How many populations (level5 column) the dataset contains? (★☆☆)\n",
    "\n",
    "Print the name of the populations with comma as separator. For example:\n",
    "\n",
    "`> print(populations)`\n",
    "\n",
    "`population1, population2, population3,...`"
   ]
  },
  {
   "cell_type": "code",
   "execution_count": 5,
   "id": "exciting-accreditation",
   "metadata": {},
   "outputs": [
    {
     "data": {
      "text/plain": [
       "['Arganda del Rey',\n",
       " 'Fuenlabrada',\n",
       " 'Boadilla del Monte',\n",
       " 'Las Rozas de Madrid',\n",
       " ' Madrid Capital',\n",
       " 'Villaviciosa de Odón',\n",
       " 'Pinto',\n",
       " 'Valdemoro',\n",
       " 'Navalcarnero',\n",
       " 'Pozuelo de Alarcón',\n",
       " 'Torrejón de Ardoz',\n",
       " 'Navalagamella',\n",
       " 'San Sebastián de los Reyes',\n",
       " 'Rivas-vaciamadrid',\n",
       " 'Alpedrete',\n",
       " 'Móstoles',\n",
       " 'San Fernando de Henares',\n",
       " 'Coslada',\n",
       " 'Becerril de la Sierra',\n",
       " 'Alcalá de Henares',\n",
       " 'Chinchón',\n",
       " 'Parla',\n",
       " 'Alcorcón',\n",
       " 'El Escorial',\n",
       " 'Leganés',\n",
       " 'Pedrezuela',\n",
       " 'Majadahonda',\n",
       " 'Villanueva de la Cañada',\n",
       " 'Villanueva del Pardillo',\n",
       " 'Torrelodones',\n",
       " 'Moralzarzal',\n",
       " 'Mejorada del Campo',\n",
       " 'Aranjuez',\n",
       " 'Corpa',\n",
       " 'Getafe',\n",
       " 'Velilla de San Antonio',\n",
       " 'Sevilla la Nueva',\n",
       " 'San Martín de la Vega',\n",
       " 'Villalbilla',\n",
       " 'Collado Villalba',\n",
       " 'Alcobendas',\n",
       " 'El Molar (Madrid)',\n",
       " 'Moraleja de Enmedio',\n",
       " 'Algete',\n",
       " 'Campo Real',\n",
       " 'Torrejón de la Calzada',\n",
       " 'Colmenar Viejo',\n",
       " 'Valdemorillo',\n",
       " 'Fuente El Saz de Jarama',\n",
       " 'Tres Cantos',\n",
       " 'Arroyomolinos (Madrid)',\n",
       " 'Griñón',\n",
       " 'Paracuellos de Jarama',\n",
       " 'Guadarrama',\n",
       " 'Titulcia',\n",
       " 'Galapagar',\n",
       " 'Collado Mediano',\n",
       " 'Los Molinos',\n",
       " 'San Lorenzo de El Escorial',\n",
       " 'Loeches',\n",
       " 'San Martín de Valdeiglesias',\n",
       " 'Navas del Rey',\n",
       " 'Bustarviejo',\n",
       " 'Manzanares El Real',\n",
       " 'Carabaña',\n",
       " 'Casarrubuelos',\n",
       " 'Cercedilla',\n",
       " 'Fresnedillas de la Oliva',\n",
       " 'Valdemaqueda',\n",
       " 'Robledo de Chavela',\n",
       " 'Miraflores de la Sierra',\n",
       " 'Humanes de Madrid',\n",
       " 'Valdetorres de Jarama',\n",
       " 'San Agustín del Guadalix',\n",
       " 'Ciempozuelos',\n",
       " 'Camarma de Esteruelas',\n",
       " 'Torres de la Alameda',\n",
       " 'Talamanca de Jarama',\n",
       " 'El Atazar',\n",
       " 'Hoyo de Manzanares',\n",
       " 'El Boalo - Cerceda – Mataelpino',\n",
       " 'El Álamo',\n",
       " 'Valdilecha',\n",
       " 'Valdeolmos-Alalpardo',\n",
       " 'Guadalix de la Sierra',\n",
       " 'Belmonte de Tajo',\n",
       " 'El Vellón',\n",
       " 'Brunete',\n",
       " 'Redueña',\n",
       " 'Morata de Tajuña',\n",
       " 'Tielmes',\n",
       " 'Gargantilla del Lozoya',\n",
       " 'Meco',\n",
       " 'Venturada',\n",
       " 'Quijorna',\n",
       " 'Cenicientos',\n",
       " 'Torrejón de Velasco',\n",
       " 'Navacerrada',\n",
       " 'Santa María de la Alameda',\n",
       " 'Orusco de Tajuña',\n",
       " 'Daganzo de Arriba',\n",
       " 'Villamanta',\n",
       " 'Anchuelo',\n",
       " 'Valdaracete',\n",
       " 'Ajalvir',\n",
       " 'Los Santos de la Humosa',\n",
       " 'Villamanrique de Tajo',\n",
       " 'Colmenar de Oreja',\n",
       " 'Villa del Prado',\n",
       " 'Fuentidueña de Tajo',\n",
       " 'Colmenar del Arroyo',\n",
       " 'Valdelaguna',\n",
       " 'Cubas de la Sagra',\n",
       " 'Valdeavero',\n",
       " 'Aldea del Fresno',\n",
       " 'Ribatejada',\n",
       " 'Torrelaguna',\n",
       " 'Batres',\n",
       " 'Pezuela de las Torres',\n",
       " 'Colmenarejo',\n",
       " 'Serranillos del Valle',\n",
       " 'Cobeña',\n",
       " 'Soto del Real',\n",
       " 'El Berrueco',\n",
       " 'Villanueva de Perales',\n",
       " 'Fresno de Torote - Serracines',\n",
       " 'Pozuelo del Rey',\n",
       " 'Pelayos de la Presa',\n",
       " 'La Cabrera',\n",
       " 'Nuevo Baztán',\n",
       " 'Perales de Tajuña',\n",
       " 'Villaconejos',\n",
       " 'Villarejo de Salvanés',\n",
       " 'Cadalso de los Vidrios',\n",
       " 'Santorcaz',\n",
       " 'Madarcos',\n",
       " 'Garganta de los Montes',\n",
       " 'Puentes Viejas',\n",
       " 'Torremocha de Jarama',\n",
       " 'Valdemanco',\n",
       " 'Braojos',\n",
       " 'Lozoyuela-navas-sieteiglesias',\n",
       " 'Piñuécar-gandullas',\n",
       " 'Valdepiélagos',\n",
       " 'Valverde de Alcalá',\n",
       " 'Villar del Olmo',\n",
       " 'Villamantilla',\n",
       " 'Horcajo de la Sierra',\n",
       " 'Gascones',\n",
       " 'Zarzalejo',\n",
       " 'Villavieja del Lozoya',\n",
       " 'Brea de Tajo',\n",
       " 'Estremera',\n",
       " 'Chapinería',\n",
       " 'Navarredonda',\n",
       " 'Patones',\n",
       " 'Ambite',\n",
       " 'Navalafuente',\n",
       " 'Lozoya',\n",
       " 'Canencia',\n",
       " 'Cabanillas de la Sierra',\n",
       " 'Buitrago del Lozoya',\n",
       " 'Fresno de Torote',\n",
       " 'Robregordo',\n",
       " 'Pinilla del Valle',\n",
       " 'Rascafría',\n",
       " 'La Hiruela',\n",
       " 'Montejo de la Sierra']"
      ]
     },
     "execution_count": 5,
     "metadata": {},
     "output_type": "execute_result"
    }
   ],
   "source": [
    "# TODO\n",
    "column = ds['level5'].unique()\n",
    "population = [z for x in column for z in x.split(', ')]\n",
    "\n",
    "population"
   ]
  },
  {
   "attachments": {},
   "cell_type": "markdown",
   "id": "crazy-blame",
   "metadata": {},
   "source": [
    "#### Exercise 05. Does the dataset contain NAs? (★☆☆)\n",
    "\n",
    "Print a boolean value (`true` or `fase`) followed by the rows/cols that contains NAs."
   ]
  },
  {
   "cell_type": "code",
   "execution_count": 6,
   "id": "transparent-poetry",
   "metadata": {},
   "outputs": [
    {
     "data": {
      "text/html": [
       "<div>\n",
       "<style scoped>\n",
       "    .dataframe tbody tr th:only-of-type {\n",
       "        vertical-align: middle;\n",
       "    }\n",
       "\n",
       "    .dataframe tbody tr th {\n",
       "        vertical-align: top;\n",
       "    }\n",
       "\n",
       "    .dataframe thead th {\n",
       "        text-align: right;\n",
       "    }\n",
       "</style>\n",
       "<table border=\"1\" class=\"dataframe\">\n",
       "  <thead>\n",
       "    <tr style=\"text-align: right;\">\n",
       "      <th></th>\n",
       "      <th>Unnamed: 0</th>\n",
       "      <th>id_realEstates</th>\n",
       "      <th>isNew</th>\n",
       "      <th>realEstate_name</th>\n",
       "      <th>phone_realEstate</th>\n",
       "      <th>url_inmueble</th>\n",
       "      <th>rooms</th>\n",
       "      <th>bathrooms</th>\n",
       "      <th>surface</th>\n",
       "      <th>price</th>\n",
       "      <th>...</th>\n",
       "      <th>level4Id</th>\n",
       "      <th>level5Id</th>\n",
       "      <th>level6Id</th>\n",
       "      <th>level7Id</th>\n",
       "      <th>level8Id</th>\n",
       "      <th>accuracy</th>\n",
       "      <th>latitude</th>\n",
       "      <th>longitude</th>\n",
       "      <th>zipCode</th>\n",
       "      <th>customZone</th>\n",
       "    </tr>\n",
       "  </thead>\n",
       "  <tbody>\n",
       "    <tr>\n",
       "      <th>0</th>\n",
       "      <td>False</td>\n",
       "      <td>False</td>\n",
       "      <td>False</td>\n",
       "      <td>False</td>\n",
       "      <td>False</td>\n",
       "      <td>False</td>\n",
       "      <td>False</td>\n",
       "      <td>False</td>\n",
       "      <td>False</td>\n",
       "      <td>False</td>\n",
       "      <td>...</td>\n",
       "      <td>False</td>\n",
       "      <td>False</td>\n",
       "      <td>False</td>\n",
       "      <td>False</td>\n",
       "      <td>False</td>\n",
       "      <td>False</td>\n",
       "      <td>False</td>\n",
       "      <td>False</td>\n",
       "      <td>True</td>\n",
       "      <td>True</td>\n",
       "    </tr>\n",
       "    <tr>\n",
       "      <th>1</th>\n",
       "      <td>False</td>\n",
       "      <td>False</td>\n",
       "      <td>False</td>\n",
       "      <td>False</td>\n",
       "      <td>False</td>\n",
       "      <td>False</td>\n",
       "      <td>False</td>\n",
       "      <td>False</td>\n",
       "      <td>True</td>\n",
       "      <td>False</td>\n",
       "      <td>...</td>\n",
       "      <td>False</td>\n",
       "      <td>False</td>\n",
       "      <td>False</td>\n",
       "      <td>False</td>\n",
       "      <td>False</td>\n",
       "      <td>False</td>\n",
       "      <td>False</td>\n",
       "      <td>False</td>\n",
       "      <td>True</td>\n",
       "      <td>True</td>\n",
       "    </tr>\n",
       "    <tr>\n",
       "      <th>2</th>\n",
       "      <td>False</td>\n",
       "      <td>False</td>\n",
       "      <td>False</td>\n",
       "      <td>False</td>\n",
       "      <td>False</td>\n",
       "      <td>False</td>\n",
       "      <td>False</td>\n",
       "      <td>False</td>\n",
       "      <td>False</td>\n",
       "      <td>False</td>\n",
       "      <td>...</td>\n",
       "      <td>False</td>\n",
       "      <td>False</td>\n",
       "      <td>False</td>\n",
       "      <td>False</td>\n",
       "      <td>False</td>\n",
       "      <td>False</td>\n",
       "      <td>False</td>\n",
       "      <td>False</td>\n",
       "      <td>True</td>\n",
       "      <td>True</td>\n",
       "    </tr>\n",
       "    <tr>\n",
       "      <th>3</th>\n",
       "      <td>False</td>\n",
       "      <td>False</td>\n",
       "      <td>False</td>\n",
       "      <td>False</td>\n",
       "      <td>False</td>\n",
       "      <td>False</td>\n",
       "      <td>False</td>\n",
       "      <td>False</td>\n",
       "      <td>False</td>\n",
       "      <td>False</td>\n",
       "      <td>...</td>\n",
       "      <td>False</td>\n",
       "      <td>False</td>\n",
       "      <td>False</td>\n",
       "      <td>False</td>\n",
       "      <td>False</td>\n",
       "      <td>False</td>\n",
       "      <td>False</td>\n",
       "      <td>False</td>\n",
       "      <td>True</td>\n",
       "      <td>True</td>\n",
       "    </tr>\n",
       "    <tr>\n",
       "      <th>4</th>\n",
       "      <td>False</td>\n",
       "      <td>False</td>\n",
       "      <td>False</td>\n",
       "      <td>False</td>\n",
       "      <td>False</td>\n",
       "      <td>False</td>\n",
       "      <td>False</td>\n",
       "      <td>False</td>\n",
       "      <td>False</td>\n",
       "      <td>False</td>\n",
       "      <td>...</td>\n",
       "      <td>False</td>\n",
       "      <td>False</td>\n",
       "      <td>False</td>\n",
       "      <td>False</td>\n",
       "      <td>False</td>\n",
       "      <td>False</td>\n",
       "      <td>False</td>\n",
       "      <td>False</td>\n",
       "      <td>True</td>\n",
       "      <td>True</td>\n",
       "    </tr>\n",
       "    <tr>\n",
       "      <th>...</th>\n",
       "      <td>...</td>\n",
       "      <td>...</td>\n",
       "      <td>...</td>\n",
       "      <td>...</td>\n",
       "      <td>...</td>\n",
       "      <td>...</td>\n",
       "      <td>...</td>\n",
       "      <td>...</td>\n",
       "      <td>...</td>\n",
       "      <td>...</td>\n",
       "      <td>...</td>\n",
       "      <td>...</td>\n",
       "      <td>...</td>\n",
       "      <td>...</td>\n",
       "      <td>...</td>\n",
       "      <td>...</td>\n",
       "      <td>...</td>\n",
       "      <td>...</td>\n",
       "      <td>...</td>\n",
       "      <td>...</td>\n",
       "      <td>...</td>\n",
       "    </tr>\n",
       "    <tr>\n",
       "      <th>15330</th>\n",
       "      <td>False</td>\n",
       "      <td>False</td>\n",
       "      <td>False</td>\n",
       "      <td>False</td>\n",
       "      <td>False</td>\n",
       "      <td>False</td>\n",
       "      <td>False</td>\n",
       "      <td>False</td>\n",
       "      <td>False</td>\n",
       "      <td>False</td>\n",
       "      <td>...</td>\n",
       "      <td>False</td>\n",
       "      <td>False</td>\n",
       "      <td>False</td>\n",
       "      <td>False</td>\n",
       "      <td>False</td>\n",
       "      <td>False</td>\n",
       "      <td>False</td>\n",
       "      <td>False</td>\n",
       "      <td>True</td>\n",
       "      <td>True</td>\n",
       "    </tr>\n",
       "    <tr>\n",
       "      <th>15331</th>\n",
       "      <td>False</td>\n",
       "      <td>False</td>\n",
       "      <td>False</td>\n",
       "      <td>False</td>\n",
       "      <td>False</td>\n",
       "      <td>False</td>\n",
       "      <td>False</td>\n",
       "      <td>False</td>\n",
       "      <td>False</td>\n",
       "      <td>False</td>\n",
       "      <td>...</td>\n",
       "      <td>False</td>\n",
       "      <td>False</td>\n",
       "      <td>False</td>\n",
       "      <td>False</td>\n",
       "      <td>False</td>\n",
       "      <td>False</td>\n",
       "      <td>False</td>\n",
       "      <td>False</td>\n",
       "      <td>True</td>\n",
       "      <td>True</td>\n",
       "    </tr>\n",
       "    <tr>\n",
       "      <th>15332</th>\n",
       "      <td>False</td>\n",
       "      <td>False</td>\n",
       "      <td>False</td>\n",
       "      <td>False</td>\n",
       "      <td>False</td>\n",
       "      <td>False</td>\n",
       "      <td>False</td>\n",
       "      <td>False</td>\n",
       "      <td>False</td>\n",
       "      <td>False</td>\n",
       "      <td>...</td>\n",
       "      <td>False</td>\n",
       "      <td>False</td>\n",
       "      <td>False</td>\n",
       "      <td>False</td>\n",
       "      <td>False</td>\n",
       "      <td>False</td>\n",
       "      <td>False</td>\n",
       "      <td>False</td>\n",
       "      <td>True</td>\n",
       "      <td>True</td>\n",
       "    </tr>\n",
       "    <tr>\n",
       "      <th>15333</th>\n",
       "      <td>False</td>\n",
       "      <td>False</td>\n",
       "      <td>False</td>\n",
       "      <td>False</td>\n",
       "      <td>False</td>\n",
       "      <td>False</td>\n",
       "      <td>False</td>\n",
       "      <td>False</td>\n",
       "      <td>False</td>\n",
       "      <td>False</td>\n",
       "      <td>...</td>\n",
       "      <td>False</td>\n",
       "      <td>False</td>\n",
       "      <td>False</td>\n",
       "      <td>False</td>\n",
       "      <td>False</td>\n",
       "      <td>False</td>\n",
       "      <td>False</td>\n",
       "      <td>False</td>\n",
       "      <td>True</td>\n",
       "      <td>True</td>\n",
       "    </tr>\n",
       "    <tr>\n",
       "      <th>15334</th>\n",
       "      <td>False</td>\n",
       "      <td>False</td>\n",
       "      <td>False</td>\n",
       "      <td>False</td>\n",
       "      <td>False</td>\n",
       "      <td>False</td>\n",
       "      <td>False</td>\n",
       "      <td>False</td>\n",
       "      <td>False</td>\n",
       "      <td>False</td>\n",
       "      <td>...</td>\n",
       "      <td>False</td>\n",
       "      <td>False</td>\n",
       "      <td>False</td>\n",
       "      <td>False</td>\n",
       "      <td>False</td>\n",
       "      <td>False</td>\n",
       "      <td>False</td>\n",
       "      <td>False</td>\n",
       "      <td>True</td>\n",
       "      <td>True</td>\n",
       "    </tr>\n",
       "  </tbody>\n",
       "</table>\n",
       "<p>15335 rows × 37 columns</p>\n",
       "</div>"
      ],
      "text/plain": [
       "       Unnamed: 0  id_realEstates  isNew  realEstate_name  phone_realEstate  \\\n",
       "0           False           False  False            False             False   \n",
       "1           False           False  False            False             False   \n",
       "2           False           False  False            False             False   \n",
       "3           False           False  False            False             False   \n",
       "4           False           False  False            False             False   \n",
       "...           ...             ...    ...              ...               ...   \n",
       "15330       False           False  False            False             False   \n",
       "15331       False           False  False            False             False   \n",
       "15332       False           False  False            False             False   \n",
       "15333       False           False  False            False             False   \n",
       "15334       False           False  False            False             False   \n",
       "\n",
       "       url_inmueble  rooms  bathrooms  surface  price  ...  level4Id  \\\n",
       "0             False  False      False    False  False  ...     False   \n",
       "1             False  False      False     True  False  ...     False   \n",
       "2             False  False      False    False  False  ...     False   \n",
       "3             False  False      False    False  False  ...     False   \n",
       "4             False  False      False    False  False  ...     False   \n",
       "...             ...    ...        ...      ...    ...  ...       ...   \n",
       "15330         False  False      False    False  False  ...     False   \n",
       "15331         False  False      False    False  False  ...     False   \n",
       "15332         False  False      False    False  False  ...     False   \n",
       "15333         False  False      False    False  False  ...     False   \n",
       "15334         False  False      False    False  False  ...     False   \n",
       "\n",
       "       level5Id  level6Id  level7Id  level8Id  accuracy  latitude  longitude  \\\n",
       "0         False     False     False     False     False     False      False   \n",
       "1         False     False     False     False     False     False      False   \n",
       "2         False     False     False     False     False     False      False   \n",
       "3         False     False     False     False     False     False      False   \n",
       "4         False     False     False     False     False     False      False   \n",
       "...         ...       ...       ...       ...       ...       ...        ...   \n",
       "15330     False     False     False     False     False     False      False   \n",
       "15331     False     False     False     False     False     False      False   \n",
       "15332     False     False     False     False     False     False      False   \n",
       "15333     False     False     False     False     False     False      False   \n",
       "15334     False     False     False     False     False     False      False   \n",
       "\n",
       "       zipCode  customZone  \n",
       "0         True        True  \n",
       "1         True        True  \n",
       "2         True        True  \n",
       "3         True        True  \n",
       "4         True        True  \n",
       "...        ...         ...  \n",
       "15330     True        True  \n",
       "15331     True        True  \n",
       "15332     True        True  \n",
       "15333     True        True  \n",
       "15334     True        True  \n",
       "\n",
       "[15335 rows x 37 columns]"
      ]
     },
     "execution_count": 6,
     "metadata": {},
     "output_type": "execute_result"
    }
   ],
   "source": [
    "# TODO\n",
    "nans = ds.isna()\n",
    "nans\n"
   ]
  },
  {
   "attachments": {},
   "cell_type": "markdown",
   "id": "italic-hydrogen",
   "metadata": {},
   "source": [
    "#### Exercise 06. Delete the NAs of the dataset, if applicable (★★☆)\n",
    "\n",
    "Print a comparison between the dimensions of the original DataFrame versus the DataFrame after the deletions"
   ]
  },
  {
   "cell_type": "code",
   "execution_count": 7,
   "id": "administrative-roads",
   "metadata": {},
   "outputs": [
    {
     "name": "stdout",
     "output_type": "stream",
     "text": [
      "The dimension of the DS is (15335, 37) and the copy is (0, 37)\n"
     ]
    }
   ],
   "source": [
    "# TODO\n",
    "ds_copy = ds\n",
    "ds_copy = ds_copy.dropna()\n",
    "\n",
    "print(f\"The dimension of the DS is {ds.shape} and the copy is {ds_copy.shape}\")"
   ]
  },
  {
   "attachments": {},
   "cell_type": "markdown",
   "id": "middle-china",
   "metadata": {},
   "source": [
    "#### Exercise 07. Which is the mean of prices in the population (level5 column) of \"Arroyomolinos (Madrid)\"? (★★☆)\n",
    "\n",
    "Print the obtained value"
   ]
  },
  {
   "cell_type": "code",
   "execution_count": 8,
   "id": "nuclear-belief",
   "metadata": {},
   "outputs": [
    {
     "name": "stdout",
     "output_type": "stream",
     "text": [
      "The mean of prices is: 294541.59854014596\n"
     ]
    }
   ],
   "source": [
    "# TODO\n",
    "data = ds[ds['level5'] == \"Arroyomolinos (Madrid)\"]\n",
    "mean_data = data['price'].mean()\n",
    "\n",
    "print(f\"The mean of prices is: {mean_data}\")"
   ]
  },
  {
   "attachments": {},
   "cell_type": "markdown",
   "id": "concerned-radical",
   "metadata": {},
   "source": [
    "#### Exercise 08. Plot the histogram of prices for the population (level5 column) of \"Arroyomolinos (Madrid)\" and explain what you observe (★★☆)\n",
    "\n",
    "Print the histogram of the prices and write in the Markdown cell a brief analysis about the plot."
   ]
  },
  {
   "cell_type": "code",
   "execution_count": 9,
   "id": "sudden-message",
   "metadata": {},
   "outputs": [
    {
     "data": {
      "image/png": "[encoded data removed]",
      "text/plain": [
       "<Figure size 640x480 with 1 Axes>"
      ]
     },
     "metadata": {},
     "output_type": "display_data"
    }
   ],
   "source": [
    "# TODO: Code\n",
    "import matplotlib.pyplot as plt\n",
    "\n",
    "data = ds[ds['level5'] == \"Arroyomolinos (Madrid)\"]\n",
    "plt.hist(data['price'])\n",
    "plt.show()"
   ]
  },
  {
   "attachments": {},
   "cell_type": "markdown",
   "id": "impressed-combination",
   "metadata": {},
   "source": [
    "**TODO: Markdown**. To write here, double click to this cell and just remove this content and place the text you want to write. Then, execute the cell."
   ]
  },
  {
   "attachments": {},
   "cell_type": "markdown",
   "id": "actual-edinburgh",
   "metadata": {},
   "source": [
    "#### Exercise 09. Are the averages of \"Valdemorillo\" and \"Galapagar\" prices the same? (★★☆)\n",
    "\n",
    "Print the both average prices and then write a conclusion about them"
   ]
  },
  {
   "cell_type": "code",
   "execution_count": 10,
   "id": "numeric-commerce",
   "metadata": {},
   "outputs": [
    {
     "name": "stdout",
     "output_type": "stream",
     "text": [
      "Conclusion: Valdemorillo average price is 363860.2931034483 and Galapagar is 360063.20238095237\n"
     ]
    }
   ],
   "source": [
    "# TODO\n",
    "v = ds[ds['level5'] == \"Valdemorillo\"]\n",
    "g = ds[ds['level5'] == \"Galapagar\"]\n",
    "\n",
    "v_price_mean = v['price'].mean()\n",
    "g_price_mean = g['price'].mean()\n",
    "\n",
    "print(f\"Conclusion: Valdemorillo average price is {v_price_mean} and Galapagar is {g_price_mean}\")\n"
   ]
  },
  {
   "attachments": {},
   "cell_type": "markdown",
   "id": "lonely-article",
   "metadata": {},
   "source": [
    "#### Exercise 10. Are the averages of \"Valdemorillo\" and \"Galapagar\" price per square meter (price/m2) the same? (★★☆)\n",
    "\n",
    "Print the both average prices and then write a conclusion about\n",
    "\n",
    "Hint: Create a new column called `pps` (price per square) and then analyse the values"
   ]
  },
  {
   "cell_type": "code",
   "execution_count": 11,
   "id": "hourly-globe",
   "metadata": {},
   "outputs": [
    {
     "name": "stdout",
     "output_type": "stream",
     "text": [
      "The average price for Valdemorillo is 1317.9502109024986 and for Galapar is 1606.3240303094024\n"
     ]
    }
   ],
   "source": [
    "# TODO\n",
    "data = ds[ds['level5'].isin([\"Valdemorillo\", \"Galapagar\"])]\n",
    "ds['pps'] = data['price'] / data['surface']\n",
    "\n",
    "avg_price_valdemorillo = ds[ds['level5'] == 'Valdemorillo']['pps'].mean()\n",
    "avg_price_galapagar = ds[ds['level5'] == 'Galapagar']['pps'].mean()\n",
    "\n",
    "print(f\"The average price for Valdemorillo is {avg_price_valdemorillo} and for Galapar is {avg_price_galapagar}\")\n",
    "\n"
   ]
  },
  {
   "attachments": {},
   "cell_type": "markdown",
   "id": "pleasant-invite",
   "metadata": {},
   "source": [
    "#### Exercise 11. Analyse the relation between the surface and the price of the houses (★★☆)\n",
    "\n",
    "Hint: You can make a `scatter plot` and then write a conclusion about it"
   ]
  },
  {
   "cell_type": "code",
   "execution_count": 12,
   "id": "common-drilling",
   "metadata": {},
   "outputs": [
    {
     "data": {
      "text/plain": [
       "<Figure size 1200x1200 with 0 Axes>"
      ]
     },
     "metadata": {},
     "output_type": "display_data"
    },
    {
     "data": {
      "image/png": "[encoded data removed]",
      "text/plain": [
       "<Figure size 640x480 with 2 Axes>"
      ]
     },
     "metadata": {},
     "output_type": "display_data"
    }
   ],
   "source": [
    "# TODO: Code\n",
    "import matplotlib.pyplot as plt\n",
    "\n",
    "plt.figure(figsize=(12,12))\n",
    "plt.suptitle(\"Surface vs price on houses\")\n",
    "\n",
    "# this is only for reduce the amount of graphics\n",
    "data = ds[ds['level5'].isin(['Valdemorillo', 'Galapagar'])]\n",
    "locations = data['level5'].unique()\n",
    "fig, axs = plt.subplots(2,1)\n",
    "\n",
    "for index, location in enumerate(locations):\n",
    "    location_data = data[data[\"level5\"] == location]\n",
    "    ax = axs.flat[index]\n",
    "    ax.scatter(location_data['surface'], location_data['price'])\n",
    "    ax.set_ylabel(\"surface\")\n",
    "    ax.set_xlabel(\"Price\")\n",
    "    ax.set_title(location)\n",
    "\n"
   ]
  },
  {
   "attachments": {},
   "cell_type": "markdown",
   "id": "ahead-liquid",
   "metadata": {},
   "source": [
    "**TODO: Markdown**. To write here, double click to this cell and just remove this content and place the text you want to write. Then, execute the cell."
   ]
  },
  {
   "attachments": {},
   "cell_type": "markdown",
   "id": "coordinate-sunrise",
   "metadata": {},
   "source": [
    "#### Exercise 12. How many real estate agencies the dataset contains? (★★☆)\n",
    "\n",
    "Print the obtained value"
   ]
  },
  {
   "cell_type": "code",
   "execution_count": 13,
   "id": "valid-honolulu",
   "metadata": {},
   "outputs": [
    {
     "name": "stdout",
     "output_type": "stream",
     "text": [
      "1822\n"
     ]
    },
    {
     "data": {
      "text/plain": [
       "1821"
      ]
     },
     "execution_count": 13,
     "metadata": {},
     "output_type": "execute_result"
    }
   ],
   "source": [
    "# TODO\n",
    "#  two ways\n",
    "real_state_agencies = ds['realEstate_name'].unique()\n",
    "print(real_state_agencies.size)\n",
    "\n",
    "real_states = ds.groupby('realEstate_name').agg(['unique'])\n",
    "len(real_states)\n"
   ]
  },
  {
   "attachments": {},
   "cell_type": "markdown",
   "id": "binding-ebony",
   "metadata": {},
   "source": [
    "#### Exercise 13. Which is the population (level5 column) that contains the most houses? (★★☆)\n",
    "\n",
    "Print both the population and the number of houses"
   ]
  },
  {
   "cell_type": "code",
   "execution_count": 14,
   "id": "static-perry",
   "metadata": {},
   "outputs": [
    {
     "name": "stdout",
     "output_type": "stream",
     "text": [
      "The population that contains most houses is  Madrid Capital with 6643\n"
     ]
    }
   ],
   "source": [
    "# TODO\n",
    "houses = ds.groupby('level5')['id_realEstates'].count().to_dict()\n",
    "print(\"The population that contains most houses is\", next(iter(houses)), \"with\", next(iter(houses.values())))\n"
   ]
  },
  {
   "attachments": {},
   "cell_type": "markdown",
   "id": "entire-classification",
   "metadata": {},
   "source": [
    "#### Exercise 14. Now let's work with the \"south belt\" of madrid. Make a subset of the original DataFrame that contains the following populations (level5 column): \"Fuenlabrada\",\"Leganés\",\"Getafe\",\"Alcorcón\" (★★☆)\n",
    "\n",
    "Hint: Filter the original DataFrame using the column `level5` and the function `isin`"
   ]
  },
  {
   "cell_type": "code",
   "execution_count": 15,
   "id": "binary-input",
   "metadata": {},
   "outputs": [
    {
     "data": {
      "text/plain": [
       "level5\n",
       "Getafe         290\n",
       "Fuenlabrada    233\n",
       "Leganés        194\n",
       "Alcorcón       190\n",
       "Name: count, dtype: int64"
      ]
     },
     "execution_count": 15,
     "metadata": {},
     "output_type": "execute_result"
    }
   ],
   "source": [
    "# TODO\n",
    "data = ds[ds[\"level5\"].isin([\"Fuenlabrada\", \"Leganés\", \"Getafe\", \"Alcorcón\"])]\n",
    "data['level5'].value_counts()"
   ]
  },
  {
   "attachments": {},
   "cell_type": "markdown",
   "id": "severe-fisher",
   "metadata": {},
   "source": [
    "#### Exercise 15. Make a bar plot of the median of the prices and explain what you observe (you must use the subset obtained in the question 14) (★★★)\n",
    "\n",
    "Print the bar of the median of the prices and write in the Markdown cell a brief analysis about the plot"
   ]
  },
  {
   "cell_type": "code",
   "execution_count": 16,
   "id": "lyric-bunch",
   "metadata": {},
   "outputs": [
    {
     "data": {
      "image/png": "[encoded data removed]",
      "text/plain": [
       "<Figure size 640x480 with 1 Axes>"
      ]
     },
     "metadata": {},
     "output_type": "display_data"
    }
   ],
   "source": [
    "# TODO: Code\n",
    "import matplotlib.pyplot as plt\n",
    "\n",
    "data = ds[ds['level5'].isin((\"Fuenlabrada\", \"Leganés\", \"Getafe\", \"Alcorcón\"))]\n",
    "data_for_plot = data[['level5', 'price']]\n",
    "data_to_plot = data_for_plot.groupby('level5').median()\n",
    "keys = data_to_plot.index.values.tolist()\n",
    "values = data_to_plot['price'].tolist()\n",
    "\n",
    "plt.bar(keys, values)\n",
    "plt.show()"
   ]
  },
  {
   "attachments": {},
   "cell_type": "markdown",
   "id": "sublime-newspaper",
   "metadata": {},
   "source": [
    "**TODO: Markdown**. To write here, double click to this cell and just remove this content and place the text you want to write. Then, execute the cell."
   ]
  },
  {
   "attachments": {},
   "cell_type": "markdown",
   "id": "speaking-diamond",
   "metadata": {},
   "source": [
    "#### Exercise 16. Calculate the sample mean and variance of the variables: price, rooms, surface area and bathrooms (you must use the subset obtained in the question 14) (★★★)\n",
    "\n",
    "Print both values for each variable"
   ]
  },
  {
   "cell_type": "code",
   "execution_count": 17,
   "id": "random-feeling",
   "metadata": {},
   "outputs": [
    {
     "name": "stdout",
     "output_type": "stream",
     "text": [
      "The mean is:                      price     rooms     surface  bathrooms\n",
      "level5                                                     \n",
      "Alcorcón     230071.052632  2.914894  105.913295   1.623656\n",
      "Fuenlabrada  177198.021459  3.025974  103.624365   1.445415\n",
      "Getafe       265040.500000  3.151724  126.896266   1.865052\n",
      "Leganés      208682.010309  2.906736  105.852273   1.518135\n",
      "The var is:                     price     rooms      surface  bathrooms\n",
      "level5                                                     \n",
      "Alcorcón     1.594783e+10  0.933895  4244.323834   0.592735\n",
      "Fuenlabrada  4.701021e+09  0.355844  2264.643893   0.353367\n",
      "Getafe       2.098267e+10  0.772748  5828.110028   0.658809\n",
      "Leganés      1.191394e+10  0.824590  3987.475195   0.553055\n"
     ]
    }
   ],
   "source": [
    "# TODO\n",
    "data = ds[ds[\"level5\"].isin([\"Fuenlabrada\", \"Leganés\", \"Getafe\", \"Alcorcón\"])]\n",
    "filter = data[['level5', 'price', 'rooms', 'surface', 'bathrooms']]\n",
    "\n",
    "group = filter.groupby('level5')\n",
    "mean = group.mean()\n",
    "variance = group.var()\n",
    "\n",
    "print(f\"The mean is: {mean}\")\n",
    "\n",
    "print(f\"The var is: {variance}\")"
   ]
  },
  {
   "attachments": {},
   "cell_type": "markdown",
   "id": "revolutionary-matrix",
   "metadata": {},
   "source": [
    "#### Exercise 17. What is the most expensive house of each population? You must use the subset obtained in the question 14 (★★☆)\n",
    "\n",
    "Print both the address and the price of the selected house of each population. You can print a DataFrame or a single line for each population"
   ]
  },
  {
   "cell_type": "code",
   "execution_count": 18,
   "id": "fifteen-browse",
   "metadata": {},
   "outputs": [
    {
     "data": {
      "text/plain": [
       "level5\n",
       "Alcorcón        950000\n",
       "Fuenlabrada     490000\n",
       "Getafe         1050000\n",
       "Leganés         650000\n",
       "Name: price, dtype: int64"
      ]
     },
     "execution_count": 18,
     "metadata": {},
     "output_type": "execute_result"
    }
   ],
   "source": [
    "# TODO\n",
    "data = ds[ds['level5'].isin((\"Fuenlabrada\", \"Leganés\", \"Getafe\", \"Alcorcón\"))]\n",
    "data.groupby('level5')['price'].max()"
   ]
  },
  {
   "attachments": {},
   "cell_type": "markdown",
   "id": "activated-knight",
   "metadata": {},
   "source": [
    "#### Exercise 18. Normalize the variable of prices for each population and plot the 4 histograms in the same plot (you must use the subset obtained in the question 14) (★★★)\n",
    "\n",
    "For the normalization method you can use the one you consider to, there is not a single correct answer to this question. Print the plot and write in the Markdown cell a brief analysis about the plot\n",
    "\n",
    "Hint: You can help yourself reviewing the multihist demo of Matplotlib"
   ]
  },
  {
   "cell_type": "code",
   "execution_count": 19,
   "id": "civic-meditation",
   "metadata": {},
   "outputs": [
    {
     "data": {
      "image/png": "[encoded data removed]",
      "text/plain": [
       "<Figure size 1000x1000 with 4 Axes>"
      ]
     },
     "metadata": {},
     "output_type": "display_data"
    }
   ],
   "source": [
    "# TODO\n",
    "import matplotlib.pyplot as plt\n",
    "\n",
    "def normalize(df, column_name):\n",
    "    result = df.copy()\n",
    "    max_value = result[column_name].max()\n",
    "    min_value = result[column_name].min()\n",
    "    result[column_name] = (df[column_name] - min_value) / (max_value - min_value)\n",
    "    return result\n",
    "\n",
    "data = ds[ds['level5'].isin((\"Fuenlabrada\", \"Leganés\", \"Getafe\", \"Alcorcón\"))]\n",
    "\n",
    "normalized_data = normalize(data, 'price')\n",
    "populations = normalized_data['level5'].unique()\n",
    "\n",
    "\n",
    "plt.figure(figsize=(10,10))\n",
    "plt.suptitle(\"Price normalized on histogram for each population\")\n",
    "id = 1\n",
    "\n",
    "for population in populations:\n",
    "    plt.subplot(2, 2, id)\n",
    "    plt.hist(normalized_data[\"price\"], bins=10)\n",
    "    plt.title(population)\n",
    "    id+=1\n",
    "\n",
    "plt.show()"
   ]
  },
  {
   "attachments": {},
   "cell_type": "markdown",
   "id": "precise-heavy",
   "metadata": {},
   "source": [
    "**TODO: Markdown**. To write here, double click to this cell and just remove this content and place the text you want to write. Then, execute the cell."
   ]
  },
  {
   "attachments": {},
   "cell_type": "markdown",
   "id": "patent-jonathan",
   "metadata": {},
   "source": [
    "#### Exercise 19. What can you say about the price per square meter (price/m2) between the towns of \"Getafe\" and \"Alcorcón\"? You must use the subset obtained in the question 14 (★★☆)\n",
    "\n",
    "Hint: Create a new column called `pps` (price per square) and then analyse the values"
   ]
  },
  {
   "cell_type": "code",
   "execution_count": 36,
   "id": "initial-liverpool",
   "metadata": {},
   "outputs": [
    {
     "name": "stderr",
     "output_type": "stream",
     "text": [
      "/tmp/ipykernel_557/812937208.py:5: SettingWithCopyWarning: \n",
      "A value is trying to be set on a copy of a slice from a DataFrame.\n",
      "Try using .loc[row_indexer,col_indexer] = value instead\n",
      "\n",
      "See the caveats in the documentation: https://pandas.pydata.org/pandas-docs/stable/user_guide/indexing.html#returning-a-view-versus-a-copy\n",
      "  filtered['pps'] = data['surface'] / data['price']\n"
     ]
    },
    {
     "data": {
      "text/plain": [
       "85       0.000467\n",
       "109      0.000334\n",
       "169      0.000672\n",
       "232      0.000473\n",
       "233      0.000613\n",
       "           ...   \n",
       "15117    0.000339\n",
       "15144    0.000282\n",
       "15166    0.000417\n",
       "15191    0.000321\n",
       "15223    0.000331\n",
       "Name: pps, Length: 480, dtype: float64"
      ]
     },
     "execution_count": 36,
     "metadata": {},
     "output_type": "execute_result"
    }
   ],
   "source": [
    "# TODO\n",
    "data = ds[ds['level5'].isin((\"Fuenlabrada\", \"Leganés\", \"Getafe\", \"Alcorcón\"))]\n",
    "towms = ['Getafe', 'Alcorcón']\n",
    "filtered = data[data['level5'].isin(towms)]\n",
    "filtered['pps'] = data['surface'] / data['price']\n",
    "filtered['pps']"
   ]
  },
  {
   "attachments": {},
   "cell_type": "markdown",
   "id": "enhanced-moscow",
   "metadata": {},
   "source": [
    "#### Exercise 20. Make the same plot for 4 different populations (level5 column) and rearrange them on the same graph? You must use the subset obtained in the question 14 (★★☆) \n",
    "Hint: make a scatter plot of each population using subplots."
   ]
  },
  {
   "cell_type": "code",
   "execution_count": 23,
   "id": "accepting-airfare",
   "metadata": {},
   "outputs": [
    {
     "data": {
      "image/png": "[encoded data removed]",
      "text/plain": [
       "<Figure size 1200x1200 with 4 Axes>"
      ]
     },
     "metadata": {},
     "output_type": "display_data"
    }
   ],
   "source": [
    "# TODO\n",
    "data = ds[ds['level5'].isin((\"Fuenlabrada\", \"Leganés\", \"Getafe\", \"Alcorcón\"))]\n",
    "populations = normalized_data['level5'].unique()\n",
    "\n",
    "plt.figure(figsize=(12,12))\n",
    "plt.suptitle(\"Surface vs price for 4 different populations\")\n",
    "id = 1\n",
    "\n",
    "for population in populations:\n",
    "    population_data = data[data[\"level5\"] == population]\n",
    "    plt.subplot(2, 2, id)\n",
    "    plt.scatter(population_data[\"surface\"], population_data[\"price\"])\n",
    "    plt.xlabel(\"Surface\")\n",
    "    plt.ylabel(\"Price\")\n",
    "    plt.title(population)\n",
    "    id+=1"
   ]
  },
  {
   "attachments": {},
   "cell_type": "markdown",
   "id": "blocked-effects",
   "metadata": {},
   "source": [
    "#### Exercise 21. Make a plot of the coordinates (latitude and longitude columns) of the south belt of Madrid by color of each population (you must use the subset obtained in the question 14) (★★★★)\n",
    "\n",
    "Execute the following cell and then start coding in the next one. You must implement a simple code that transform the coordinates columns in a Python dictionary (add more information if needed) and then add it to the map"
   ]
  },
  {
   "cell_type": "code",
   "execution_count": 34,
   "id": "headed-privacy",
   "metadata": {},
   "outputs": [
    {
     "data": {
      "application/vnd.jupyter.widget-view+json": {
       "model_id": "07020f776eb748baac28a341ce9b0f50",
       "version_major": 2,
       "version_minor": 0
      },
      "text/plain": [
       "Map(center=[60, -2.2], controls=(ZoomControl(options=['position', 'zoom_in_text', 'zoom_in_title', 'zoom_out_t…"
      ]
     },
     "execution_count": 34,
     "metadata": {},
     "output_type": "execute_result"
    }
   ],
   "source": [
    "from ipyleaflet import Map, basemaps, Marker, AwesomeIcon, MarkerCluster\n",
    "\n",
    "# Map centred on (60 degrees latitude et -2.2 degrees longitude)\n",
    "# Latitude, longitude\n",
    "map = Map(center = (60, -2.2), zoom = 2, min_zoom = 1, max_zoom = 20, \n",
    "    basemap=basemaps.OpenStreetMap.Mapnik)\n",
    "map"
   ]
  },
  {
   "cell_type": "code",
   "execution_count": 35,
   "id": "present-mistress",
   "metadata": {},
   "outputs": [
    {
     "data": {
      "application/vnd.jupyter.widget-view+json": {
       "model_id": "07020f776eb748baac28a341ce9b0f50",
       "version_major": 2,
       "version_minor": 0
      },
      "text/plain": [
       "Map(center=[60, -2.2], controls=(ZoomControl(options=['position', 'zoom_in_text', 'zoom_in_title', 'zoom_out_t…"
      ]
     },
     "execution_count": 35,
     "metadata": {},
     "output_type": "execute_result"
    }
   ],
   "source": [
    "## HERE: plot the coordinates of the estates\n",
    "import numpy as np\n",
    "\n",
    "## HERE: plot the coordinates of the estates\n",
    "colors = ('red', 'blue', 'green', 'orange')\n",
    "data = ds[ds['level5'].isin((\"Fuenlabrada\", \"Leganés\", \"Getafe\", \"Alcorcón\"))]\n",
    "populations = data['level5'].unique()\n",
    "markers = []\n",
    "to_change = {\n",
    "    ',': '.', \n",
    "}\n",
    "for population in populations:\n",
    "    population_df = data[(data['level5'] == population) & (data['price'] > 0)]\n",
    "    for index in range(len(population_df)):\n",
    "        location = (population_df.iloc[index]['latitude'].replace(',', '.'),\n",
    "            population_df.iloc[index]['longitude'].replace(',', '.'))\n",
    "        indexes = np.where(populations==population)[0][0]\n",
    "        color = colors[indexes]\n",
    "        icon = AwesomeIcon(\n",
    "            name='home',\n",
    "            marker_color=color,\n",
    "            icon_color='black',\n",
    "            spin=False\n",
    "        )    \n",
    "        marker = Marker(icon=icon, location=location)\n",
    "        markers.append(marker)\n",
    "\n",
    "\n",
    "marker_cluster = MarkerCluster(\n",
    "    markers=markers\n",
    ")\n",
    "\n",
    "map.add_layer(marker_cluster)\n",
    "map"
   ]
  },
  {
   "cell_type": "code",
   "execution_count": null,
   "id": "8207afc1",
   "metadata": {},
   "outputs": [],
   "source": []
  }
 ],
 "metadata": {
  "kernelspec": {
   "display_name": "Python 3",
   "language": "python",
   "name": "python3"
  },
  "language_info": {
   "codemirror_mode": {
    "name": "ipython",
    "version": 3
   },
   "file_extension": ".py",
   "mimetype": "text/x-python",
   "name": "python",
   "nbconvert_exporter": "python",
   "pygments_lexer": "ipython3",
   "version": "3.11.4"
  }
 },
 "nbformat": 4,
 "nbformat_minor": 5
}
